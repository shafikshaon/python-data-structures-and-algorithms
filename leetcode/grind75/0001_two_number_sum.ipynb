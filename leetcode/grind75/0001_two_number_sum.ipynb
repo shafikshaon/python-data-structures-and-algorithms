{
 "cells": [
  {
   "cell_type": "markdown",
   "metadata": {},
   "source": [
    "**Problem Number:** #0001\n",
    "\n",
    "**Problem Link:** https://leetcode.com/problems/two-sum/\n",
    "\n",
    "**Difficulty:** Easy\n",
    "\n",
    "**Tag:** `Array`, `Hash Table`\n",
    "\n",
    "**Problem Statement:** Given an array of integers nums and an integer target, return indices of the two numbers such that they add up to target. You may assume that each input would have exactly one solution, and you may not use the same element twice. You can return the answer in any order.\n",
    "\n",
    "**Input:** nums = [2,7,11,15], target = 9\n",
    "\n",
    "**Output:** [0,1]\n",
    "\n",
    "**Explanation:** Because nums[0] + nums[1] == 9, we return [0, 1]."
   ]
  },
  {
   "cell_type": "markdown",
   "metadata": {},
   "source": [
    "## Solution 1\n",
    "### Brute Force Approach\n",
    "This is a basic implementation of the Two-Sum problem. The Two-Sum problem is to find two numbers in an array that add up to a target value.\n",
    "\n",
    "This implementation uses nested loops to compare each number with every other number. The outer loop iterates over the elements of the input array `nums` starting from index 0, and the inner loop starts from the index `i + 1` to avoid duplicate results.\n",
    "\n",
    "For each iteration, the current number from the outer loop and the target value are used to calculate the desired value of the other number, and if the desired value is found in the input array, the indices of the two numbers are returned as the solution."
   ]
  },
  {
   "cell_type": "code",
   "execution_count": 1,
   "metadata": {},
   "outputs": [
    {
     "name": "stdout",
     "output_type": "stream",
     "text": [
      "Output: [4, 6].\n"
     ]
    }
   ],
   "source": [
    "from typing import List\n",
    "\n",
    "\n",
    "class Solution:\n",
    "    def twoSum(self, nums: List[int], target: int) -> List[int]:\n",
    "        for i in range(len(nums)):\n",
    "            for j in range(i + 1, len(nums)):\n",
    "                if nums[j] == target - nums[i]:\n",
    "                    return [i, j]\n",
    "\n",
    "\n",
    "sol = Solution()\n",
    "output = sol.twoSum(nums=[3, 5, -4, 8, 11, 1, -1, 6], target=10)\n",
    "print(f\"Output: {output}.\")"
   ]
  },
  {
   "cell_type": "markdown",
   "metadata": {},
   "source": [
    "**Time Complexity:** $O(n^2)$\n",
    "\n",
    "**Space Complexity:** $O(1)$"
   ]
  },
  {
   "cell_type": "markdown",
   "metadata": {},
   "source": [
    "## Solution 2\n",
    "### Two-pass Hash Table\n",
    "The given code implements the \"Two Sum\" problem solution using a hash map.\n",
    "\n",
    "1. The first for loop populates the hash map by iterating through the list of numbers \"nums\" and storing each number and its index as a key-value pair in the hash map.\n",
    "\n",
    "2. The second for loop iterates through the \"nums\" list again and for each number, it calculates its complement (the number needed to add up to the target value) by subtracting the current number from the target.\n",
    "\n",
    "3. It then checks if the complement exists in the hash map and if it does, and the index of the complement is not the same as the current number, it returns a list of the indices of the two numbers that add up to the target.\n",
    "\n",
    "The time complexity of this solution is O(n) since it iterates through the \"nums\" list twice. The space complexity is O(n) since the hash map stores up to n key-value pairs."
   ]
  },
  {
   "cell_type": "code",
   "execution_count": 2,
   "metadata": {},
   "outputs": [
    {
     "name": "stdout",
     "output_type": "stream",
     "text": [
      "Hash map now: {3: 0, 5: 1, -4: 2, 8: 3, 11: 4, 1: 5, -1: 6, 6: 7}.\n",
      "i = 0, complement = 7.\n",
      "i = 1, complement = 5.\n",
      "i = 2, complement = 14.\n",
      "i = 3, complement = 2.\n",
      "i = 4, complement = -1.\n",
      "Output: [4, 6].\n"
     ]
    }
   ],
   "source": [
    "class Solution:\n",
    "    def twoSum(self, nums: List[int], target: int) -> List[int]:\n",
    "        hash_map = {}\n",
    "        for i in range(len(nums)):\n",
    "            hash_map[nums[i]] = i\n",
    "        print(f\"Hash map now: {hash_map}.\")\n",
    "        for i in range(len(nums)):\n",
    "            complement = target - nums[i]\n",
    "            print(f\"i = {i}, complement = {complement}.\")\n",
    "            if complement in hash_map and hash_map[complement] != i:\n",
    "                return [i, hash_map[complement]]\n",
    "\n",
    "\n",
    "sol = Solution()\n",
    "output = sol.twoSum(nums=[3, 5, -4, 8, 11, 1, -1, 6], target=10)\n",
    "print(f\"Output: {output}.\")"
   ]
  },
  {
   "cell_type": "markdown",
   "metadata": {},
   "source": [
    "**Time Complexity:** $O(n)$\n",
    "\n",
    "**Space Complexity:** $O(n)$"
   ]
  },
  {
   "cell_type": "markdown",
   "metadata": {},
   "source": [
    "## Solution 3\n",
    "### One-pass Hash Table\n",
    "The given implementation is for finding the two indices of numbers in an array `nums` such that when added together, their sum is equal to the `target`.\n",
    "\n",
    "The approach uses a hash-map to store the numbers in the array as keys and their indices as values.\n",
    "\n",
    "The algorithm iterates over each number in the array and calculates its complement, which is `target - nums[i]`. If the complement exists in the hash-map, it means that there is a pair of numbers in the array whose sum is equal to the target. The two indices of those numbers are `i` and `hash_map[complement]` and they are returned.\n",
    "\n",
    "If the complement does not exist in the hash-map, the current number is added to the hash-map with its index as the value.\n",
    "\n",
    "The time complexity of this solution is O(n) and space complexity is O(n) as well, where n is the number of elements in the input array `nums`."
   ]
  },
  {
   "cell_type": "code",
   "execution_count": 4,
   "metadata": {},
   "outputs": [
    {
     "name": "stdout",
     "output_type": "stream",
     "text": [
      "Output: [6, 4].\n"
     ]
    }
   ],
   "source": [
    "class Solution:\n",
    "    def twoSum(self, nums: List[int], target: int) -> List[int]:\n",
    "        hash_map = {}\n",
    "        for i in range(len(nums)):\n",
    "            complement = target - nums[i]\n",
    "            if complement in hash_map:\n",
    "                return [i, hash_map[complement]]\n",
    "            hash_map[nums[i]] = i\n",
    "\n",
    "\n",
    "sol = Solution()\n",
    "output = sol.twoSum(nums=[3, 5, -4, 8, 11, 1, -1, 6], target=10)\n",
    "print(f\"Output: {output}.\")"
   ]
  },
  {
   "cell_type": "markdown",
   "metadata": {},
   "source": [
    "**Time Complexity:** $O(n)$\n",
    "\n",
    "**Space Complexity:** $O(n)$\n"
   ]
  }
 ],
 "metadata": {
  "kernelspec": {
   "display_name": "Python 3 (ipykernel)",
   "language": "python",
   "name": "python3"
  },
  "language_info": {
   "codemirror_mode": {
    "name": "ipython",
    "version": 3
   },
   "file_extension": ".py",
   "mimetype": "text/x-python",
   "name": "python",
   "nbconvert_exporter": "python",
   "pygments_lexer": "ipython3",
   "version": "3.10.9"
  }
 },
 "nbformat": 4,
 "nbformat_minor": 1
}
